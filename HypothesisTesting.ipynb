{
 "cells": [
  {
   "cell_type": "markdown",
   "metadata": {},
   "source": [
    "# Hypothesis Testing"
   ]
  },
  {
   "cell_type": "markdown",
   "metadata": {},
   "source": [
    "## **Permutation Sampling** \n",
    "\n",
    "We have two datasets; null is that they have the same probability distribution"
   ]
  },
  {
   "cell_type": "code",
   "execution_count": null,
   "metadata": {},
   "outputs": [],
   "source": [
    "# Given datasets\n",
    "force_a  # frog tongue impacts of adults\n",
    "force_b  # frog tongue impacts of juveniles\n",
    "\n",
    "# Compute difference of mean impact force from experiment; see dependencies for function\n",
    "empirical_diff_means = diff_of_means(force_a, force_b)\n",
    "\n",
    "# Draw 10,000 permutation replicates; see dependencies for functions\n",
    "perm_replicates = draw_perm_reps(force_a, force_b,\n",
    "                                 diff_of_means, size=10000)\n",
    "\n",
    "# Compute p-value: p\n",
    "p = np.sum(perm_replicates >= empirical_diff_means) / len(perm_replicates)\n",
    "\n",
    "# Print the result\n",
    "print('p-value =', p)"
   ]
  },
  {
   "cell_type": "markdown",
   "metadata": {},
   "source": [
    "## **One Sample Tests**\n",
    "\n",
    "We have one dataset and a value; null is that we could acquire that value from the dataset"
   ]
  },
  {
   "cell_type": "code",
   "execution_count": null,
   "metadata": {},
   "outputs": [],
   "source": [
    "# given data\n",
    "newcomb_value = 299860  # speed of light value in km/s\n",
    "michelson_speed_of_light  # dataset of speed of light measurements\n",
    "\n",
    "# shift the michelson dataset so that the mean is that of newcomb's\n",
    "michelson_shifted = michelson_speed_of_light - np.mean(michelson_speed_of_light) + newcomb_value\n",
    "\n",
    "# test statistic is the mean of the bootstrap sample minus Newcomb's value\n",
    "def diff_form_newcomb(data, newcomb_value = 299860):\n",
    "    return np.mean(data) - newcomb_value\n",
    "\n",
    "# calculate the observed test statistic\n",
    "diff_obs = diff_from_newcomb(michelson_speed_of_light)\n",
    "\n",
    "# draw bootstrap replicates (test statistic) from shifted dataset\n",
    "bs_replicates = draw_bs_reps(michelson_shifted, diff_from_newcomb, 10000)  # see dependencies for function\n",
    "\n",
    "# calculate the p-value\n",
    "p_value = np.sum(bs_replicates <= diff_observed) / 10000"
   ]
  },
  {
   "cell_type": "markdown",
   "metadata": {},
   "source": [
    "## **Two Sample Tests**\n",
    "\n",
    "We have two datasets; null is that the means are the same, not necessarily the probability distributions"
   ]
  },
  {
   "cell_type": "code",
   "execution_count": null,
   "metadata": {},
   "outputs": [],
   "source": [
    "# Given datasets\n",
    "force_a  # tongue forces of adult frogs\n",
    "force_b  # tongue forces of juvenile frogs\n",
    "forces_concat = np.concatenate((force_a, force_b))  # notice double brackets\n",
    "empirical_diff_means  # observed difference in means between force_a and force_b\n",
    "\n",
    "# Compute mean of all forces: mean_force\n",
    "mean_force = np.mean(forces_concat)\n",
    "\n",
    "# Generate shifted arrays\n",
    "force_a_shifted = force_a - np.mean(force_a) + mean_force\n",
    "force_b_shifted = force_b - np.mean(force_b) + mean_force\n",
    "\n",
    "# Compute 10,000 bootstrap replicates from shifted arrays\n",
    "bs_replicates_a = draw_bs_reps(force_a_shifted, np.mean, size=10000)  # see dependencies for function\n",
    "bs_replicates_b = draw_bs_reps(force_b_shifted, np.mean, size=10000)\n",
    "\n",
    "# Get replicates of difference of means: bs_replicates\n",
    "bs_replicates = bs_replicates_a - bs_replicates_b\n",
    "\n",
    "# Compute and print p-value: p\n",
    "p = np.sum(bs_replicates >= empirical_diff_means) / len(bs_replicates)\n",
    "print('p-value =', p)"
   ]
  },
  {
   "cell_type": "markdown",
   "metadata": {},
   "source": [
    "## **A/B Testing**\n",
    "\n",
    "In this example we have a new website design. We want to know if it results in a higher click through rate. We assign half of the users to the old design and half to the new design. We compare the click through rates to see if they are statistically different."
   ]
  },
  {
   "cell_type": "code",
   "execution_count": null,
   "metadata": {},
   "outputs": [],
   "source": [
    "import numpy as np\n",
    "\n",
    "# given datasets of clickthrough rates\n",
    "clickthrough_A  # 0 and 1 arrays\n",
    "clickthrough_B"
   ]
  },
  {
   "cell_type": "code",
   "execution_count": null,
   "metadata": {},
   "outputs": [],
   "source": [
    "def diff_frac(data_A, data_B):\n",
    "    frac_A = np.sum(data_A) / len(data_A)\n",
    "    frac_B = np.sum(data_B) / len(data_B)\n",
    "    return frac_B - frac_A"
   ]
  },
  {
   "cell_type": "code",
   "execution_count": null,
   "metadata": {},
   "outputs": [],
   "source": [
    "# observed value of test statistic\n",
    "diff_frac_obs = diff_frac(clickthrough_A, \n",
    "                         clickthrough_B)\n",
    "\n",
    "# permutation tests\n",
    "perm_replicates = np.empty(10000)\n",
    "\n",
    "for i in range(10000):\n",
    "    perm_replicates[i] = permutation_replicate(clickthrough_A, clickthrough_B, diff_frac)\n",
    "\n",
    "p_value = np.sum(perm_replicates >= diff_frac_obs) / 10000\n",
    "\n",
    "p_value    "
   ]
  },
  {
   "cell_type": "markdown",
   "metadata": {},
   "source": [
    "## **Correlation Testing**\n",
    "\n",
    "How can we know for sure that a correlation is real? The null hypothesis is that the variables are uncorrelated. We permute one of the arrays so that we lose any correlations."
   ]
  },
  {
   "cell_type": "code",
   "execution_count": null,
   "metadata": {},
   "outputs": [],
   "source": [
    "# Compute observed correlation: r_obs\n",
    "r_obs = pearson_r(illiteracy, fertility)\n",
    "\n",
    "# Initialize permutation replicates: perm_replicates\n",
    "perm_replicates = np.empty(10000)\n",
    "\n",
    "# Draw replicates\n",
    "for i in range(10000):\n",
    "    # Permute illiteracy measurments: illiteracy_permuted\n",
    "    illiteracy_permuted = np.random.permutation(illiteracy)\n",
    "\n",
    "    # Compute Pearson correlation\n",
    "    perm_replicates[i] = pearson_r(illiteracy_permuted, fertility)\n",
    "\n",
    "# Compute p-value: p\n",
    "p = np.sum(perm_replicates >= r_obs) / len(perm_replicates)\n",
    "print('p-val =', p)"
   ]
  },
  {
   "cell_type": "markdown",
   "metadata": {},
   "source": [
    "## Dependencies"
   ]
  },
  {
   "cell_type": "code",
   "execution_count": null,
   "metadata": {},
   "outputs": [],
   "source": [
    "# DataCamp Statistical Thinking II\n",
    "def diff_of_means(data_1, data_2):\n",
    "    \"\"\"\n",
    "    Difference in means of two arrays.\n",
    "    \"\"\"\n",
    "\n",
    "    # The difference of means of data_1, data_2: diff\n",
    "    diff = np.mean(data_1) - np.mean(data_2)\n",
    "\n",
    "    return diff"
   ]
  },
  {
   "cell_type": "code",
   "execution_count": null,
   "metadata": {},
   "outputs": [],
   "source": [
    "# DataCamp Statistical Thinking II\n",
    "def draw_perm_reps(data_1, data_2, func, size=1):\n",
    "    \"\"\"Generate multiple permutation replicates.\"\"\"\n",
    "\n",
    "    # Initialize array of replicates: perm_replicates\n",
    "    perm_replicates = np.empty(size)\n",
    "\n",
    "    for i in range(size):\n",
    "        # Generate permutation sample\n",
    "        perm_sample_1, perm_sample_2 = permutation_sample(data_1, data_2)\n",
    "\n",
    "        # Compute the test statistic\n",
    "        perm_replicates[i] = func(perm_sample_1, perm_sample_2)  # function will be user defined\n",
    "\n",
    "    return perm_replicates"
   ]
  },
  {
   "cell_type": "code",
   "execution_count": null,
   "metadata": {},
   "outputs": [],
   "source": [
    "def draw_bs_reps(data, func, size=1):\n",
    "    \"\"\"\n",
    "    Draw bootstrap replicates.\n",
    "    \"\"\"\n",
    "\n",
    "    # Initialize array of replicates: bs_replicates\n",
    "    bs_replicates = np.empty(size)\n",
    "\n",
    "    # Generate replicates\n",
    "    for i in range(size):\n",
    "        bs_replicates[i] = bootstrap_replicate_1d(data, func)\n",
    "\n",
    "    return bs_replicates"
   ]
  },
  {
   "cell_type": "code",
   "execution_count": 4,
   "metadata": {},
   "outputs": [],
   "source": [
    "# DataCamp Statistical Thinking I\n",
    "def ecdf(data):\n",
    "    \"\"\"\n",
    "    Compute ECDF for a one-dimensional array of measurements\n",
    "    \"\"\"\n",
    "    \n",
    "    # Number of data points: n\n",
    "    n = len(data)\n",
    "    \n",
    "    # sorted values\n",
    "    x = np.sort(data)\n",
    "    \n",
    "    # evenly spaced datapoints with the maximum of 1\n",
    "    y = np.arange(1, n+1) / n\n",
    "    \n",
    "    return x,y"
   ]
  },
  {
   "cell_type": "code",
   "execution_count": null,
   "metadata": {},
   "outputs": [],
   "source": [
    "# DataCamp Statistical Thinking II\n",
    "def permutation_sample(data1, data2):\n",
    "    \"\"\"Generate a permutation sample from two data sets.\"\"\"\n",
    "\n",
    "    # Concatenate the data sets: data\n",
    "    data = np.concatenate((data1, data2))\n",
    "\n",
    "    # Permute the concatenated array: permuted_data\n",
    "    permuted_data = np.random.permutation(data)\n",
    "\n",
    "    # Split the permuted array into two: perm_sample_1, perm_sample_2\n",
    "    perm_sample_1 = permuted_data[:len(data1)]\n",
    "    perm_sample_2 = permuted_data[len(data1):]\n",
    "\n",
    "    return perm_sample_1, perm_sample_2"
   ]
  }
 ],
 "metadata": {
  "kernelspec": {
   "display_name": "Python 3",
   "language": "python",
   "name": "python3"
  },
  "language_info": {
   "codemirror_mode": {
    "name": "ipython",
    "version": 3
   },
   "file_extension": ".py",
   "mimetype": "text/x-python",
   "name": "python",
   "nbconvert_exporter": "python",
   "pygments_lexer": "ipython3",
   "version": "3.7.3"
  }
 },
 "nbformat": 4,
 "nbformat_minor": 2
}
