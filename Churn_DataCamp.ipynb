{
 "cells": [
  {
   "cell_type": "markdown",
   "metadata": {},
   "source": [
    "# Churn Baby Churn\n",
    "\n",
    "Code source: [DataCamp](https://www.datacamp.com/community/tutorials/predicting-employee-churn-python)\n",
    "\n",
    "## Defining Churn\n",
    "\n",
    "Ex. *Churn: when a member of a population leaves a population*\n",
    "\n",
    "Q. Are there any attributes about your population that offer unique considerations?"
   ]
  },
  {
   "cell_type": "markdown",
   "metadata": {},
   "source": [
    "## Load Dataset"
   ]
  },
  {
   "cell_type": "code",
   "execution_count": 1,
   "metadata": {},
   "outputs": [],
   "source": [
    "import pandas as pd"
   ]
  },
  {
   "cell_type": "code",
   "execution_count": 3,
   "metadata": {},
   "outputs": [],
   "source": [
    "data = pd.read_csv(\"Data_Churn_HR.csv\")"
   ]
  },
  {
   "cell_type": "markdown",
   "metadata": {},
   "source": [
    "## Exploratory Data Analyses"
   ]
  },
  {
   "cell_type": "markdown",
   "metadata": {},
   "source": [
    "## Test **Attribute Details**"
   ]
  },
  {
   "cell_type": "markdown",
   "metadata": {},
   "source": [
    "Column 'Departments ' has a space that needs to be removed."
   ]
  },
  {
   "cell_type": "code",
   "execution_count": 57,
   "metadata": {},
   "outputs": [],
   "source": [
    "for column in data.columns:\n",
    "    data.rename(columns = {column: column.strip()}, inplace = True)"
   ]
  },
  {
   "cell_type": "code",
   "execution_count": 108,
   "metadata": {},
   "outputs": [],
   "source": [
    "data_col_deets = column_details(data)"
   ]
  },
  {
   "cell_type": "markdown",
   "metadata": {},
   "source": [
    "The 'supervised' variable is 'left'. 0 - False and 1 - True"
   ]
  },
  {
   "cell_type": "code",
   "execution_count": 109,
   "metadata": {},
   "outputs": [
    {
     "data": {
      "text/plain": [
       "Index\n",
       "Type        <class 'numpy.int64'>\n",
       "Count                       14999\n",
       "Missing                         0\n",
       "Num_Uniq                        2\n",
       "Min                             0\n",
       "Max                             1\n",
       "Mean                     0.238083\n",
       "Std                       0.42591\n",
       "Levels                     [0, 1]\n",
       "Name: left, dtype: object"
      ]
     },
     "execution_count": 109,
     "metadata": {},
     "output_type": "execute_result"
    }
   ],
   "source": [
    "data_col_deets['left']"
   ]
  },
  {
   "cell_type": "code",
   "execution_count": 87,
   "metadata": {},
   "outputs": [
    {
     "data": {
      "text/html": [
       "<div>\n",
       "<style scoped>\n",
       "    .dataframe tbody tr th:only-of-type {\n",
       "        vertical-align: middle;\n",
       "    }\n",
       "\n",
       "    .dataframe tbody tr th {\n",
       "        vertical-align: top;\n",
       "    }\n",
       "\n",
       "    .dataframe thead th {\n",
       "        text-align: right;\n",
       "    }\n",
       "</style>\n",
       "<table border=\"1\" class=\"dataframe\">\n",
       "  <thead>\n",
       "    <tr style=\"text-align: right;\">\n",
       "      <th></th>\n",
       "      <th>satisfaction_level</th>\n",
       "      <th>last_evaluation</th>\n",
       "      <th>number_project</th>\n",
       "      <th>average_montly_hours</th>\n",
       "      <th>time_spend_company</th>\n",
       "      <th>Work_accident</th>\n",
       "      <th>promotion_last_5years</th>\n",
       "    </tr>\n",
       "    <tr>\n",
       "      <th>left</th>\n",
       "      <th></th>\n",
       "      <th></th>\n",
       "      <th></th>\n",
       "      <th></th>\n",
       "      <th></th>\n",
       "      <th></th>\n",
       "      <th></th>\n",
       "    </tr>\n",
       "  </thead>\n",
       "  <tbody>\n",
       "    <tr>\n",
       "      <th>0</th>\n",
       "      <td>0.666810</td>\n",
       "      <td>0.715473</td>\n",
       "      <td>3.786664</td>\n",
       "      <td>199.060203</td>\n",
       "      <td>3.380032</td>\n",
       "      <td>0.175009</td>\n",
       "      <td>0.026251</td>\n",
       "    </tr>\n",
       "    <tr>\n",
       "      <th>1</th>\n",
       "      <td>0.440098</td>\n",
       "      <td>0.718113</td>\n",
       "      <td>3.855503</td>\n",
       "      <td>207.419210</td>\n",
       "      <td>3.876505</td>\n",
       "      <td>0.047326</td>\n",
       "      <td>0.005321</td>\n",
       "    </tr>\n",
       "  </tbody>\n",
       "</table>\n",
       "</div>"
      ],
      "text/plain": [
       "      satisfaction_level  last_evaluation  number_project  \\\n",
       "left                                                        \n",
       "0               0.666810         0.715473        3.786664   \n",
       "1               0.440098         0.718113        3.855503   \n",
       "\n",
       "      average_montly_hours  time_spend_company  Work_accident  \\\n",
       "left                                                            \n",
       "0               199.060203            3.380032       0.175009   \n",
       "1               207.419210            3.876505       0.047326   \n",
       "\n",
       "      promotion_last_5years  \n",
       "left                         \n",
       "0                  0.026251  \n",
       "1                  0.005321  "
      ]
     },
     "execution_count": 87,
     "metadata": {},
     "output_type": "execute_result"
    }
   ],
   "source": [
    "left = data.groupby('left')\n",
    "left.mean()"
   ]
  },
  {
   "cell_type": "markdown",
   "metadata": {},
   "source": [
    "## **Dependencies**"
   ]
  },
  {
   "cell_type": "code",
   "execution_count": 105,
   "metadata": {},
   "outputs": [],
   "source": [
    "# v001\n",
    "\n",
    "def column_details(data):\n",
    "    \n",
    "    column_details = extract_column_details(data)\n",
    "    \n",
    "    import pandas as pd\n",
    "        \n",
    "    column_details['Index'] = ['Type','Count','Missing','Num_Uniq','Min','Max','Mean','Std','Levels']\n",
    "    \n",
    "    df = pd.DataFrame(column_details, columns = column_details.keys()).set_index('Index', drop = True)\n",
    "    \n",
    "    return df    "
   ]
  },
  {
   "cell_type": "code",
   "execution_count": 102,
   "metadata": {},
   "outputs": [],
   "source": [
    "# v001\n",
    "\n",
    "def extract_column_details(data, column_details = {}):\n",
    "    \"\"\"\n",
    "    Return details about each column in a dataframe\n",
    "    \"\"\"\n",
    "    \n",
    "    import numpy as np\n",
    "    from pandas import DataFrame\n",
    "    \n",
    "    for column in data.columns:\n",
    "        col_type = type(data[column][0])\n",
    "        col_count = len(data[column])\n",
    "        col_miss = data[column].isnull().sum()  # how many missing values?\n",
    "        col_num_unique = len(np.unique(data[column]))  # how many unique values?\n",
    "\n",
    "        if (type(data[column][0]) is str) == False:  # only if float or integer\n",
    "            col_min = np.min(data[column])  # minimum\n",
    "            col_max = np.max(data[column])  # maximum\n",
    "            col_mean = np.mean(data[column])  # average\n",
    "            col_std = np.std(data[column])  # standard deviation\n",
    "\n",
    "        else:  # if its a string\n",
    "            col_min = 'string'  # minimum\n",
    "            col_max = 'string'  # maximum\n",
    "            col_mean = 'string'  # average\n",
    "            col_std = 'string'  # standard deviation\n",
    "\n",
    "        if col_num_unique <= 10:  # want to list unique values\n",
    "            col_list = np.unique(data[column])\n",
    "\n",
    "        else:\n",
    "            col_list = \"too many\"\n",
    "\n",
    "        # create a dictionary to store the info\n",
    "        column_details[column] = [col_type,\n",
    "                                  col_count,\n",
    "                                  col_miss,\n",
    "                                  col_num_unique,\n",
    "                                  col_min,\n",
    "                                  col_max,\n",
    "                                  col_mean,\n",
    "                                  col_std,\n",
    "                                  col_list]\n",
    "        \n",
    "    return column_details"
   ]
  }
 ],
 "metadata": {
  "kernelspec": {
   "display_name": "Python 3",
   "language": "python",
   "name": "python3"
  },
  "language_info": {
   "codemirror_mode": {
    "name": "ipython",
    "version": 3
   },
   "file_extension": ".py",
   "mimetype": "text/x-python",
   "name": "python",
   "nbconvert_exporter": "python",
   "pygments_lexer": "ipython3",
   "version": "3.7.3"
  }
 },
 "nbformat": 4,
 "nbformat_minor": 2
}
