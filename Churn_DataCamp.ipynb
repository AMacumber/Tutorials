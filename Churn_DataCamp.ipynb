{
 "cells": [
  {
   "cell_type": "markdown",
   "metadata": {},
   "source": [
    "# Churn Baby Churn\n",
    "\n",
    "Code source: [DataCamp](https://www.datacamp.com/community/tutorials/predicting-employee-churn-python)\n",
    "\n",
    "## Defining Churn\n",
    "\n",
    "Ex. *Churn: when a member of a population leaves a population*\n",
    "\n",
    "Q. Are there any attributes about your population that offer unique considerations?"
   ]
  },
  {
   "cell_type": "markdown",
   "metadata": {},
   "source": [
    "## Load Dataset"
   ]
  },
  {
   "cell_type": "code",
   "execution_count": 15,
   "metadata": {},
   "outputs": [],
   "source": [
    "import pandas as pd\n",
    "import matplotlib.pyplot as plt\n",
    "import seaborn as sns"
   ]
  },
  {
   "cell_type": "code",
   "execution_count": 2,
   "metadata": {},
   "outputs": [],
   "source": [
    "data = pd.read_csv(\"Data_Churn_HR.csv\")"
   ]
  },
  {
   "cell_type": "markdown",
   "metadata": {},
   "source": [
    "## Exploratory Data Analyses"
   ]
  },
  {
   "cell_type": "markdown",
   "metadata": {},
   "source": [
    "### Test **Attribute Details**"
   ]
  },
  {
   "cell_type": "markdown",
   "metadata": {},
   "source": [
    "Column 'Departments ' has a space that needs to be removed."
   ]
  },
  {
   "cell_type": "code",
   "execution_count": 3,
   "metadata": {},
   "outputs": [],
   "source": [
    "for column in data.columns:\n",
    "    data.rename(columns = {column: column.strip()}, inplace = True)"
   ]
  },
  {
   "cell_type": "markdown",
   "metadata": {},
   "source": [
    "Extract descriptive statistics for each attribute."
   ]
  },
  {
   "cell_type": "code",
   "execution_count": 22,
   "metadata": {},
   "outputs": [
    {
     "data": {
      "text/html": [
       "<div>\n",
       "<style scoped>\n",
       "    .dataframe tbody tr th:only-of-type {\n",
       "        vertical-align: middle;\n",
       "    }\n",
       "\n",
       "    .dataframe tbody tr th {\n",
       "        vertical-align: top;\n",
       "    }\n",
       "\n",
       "    .dataframe thead th {\n",
       "        text-align: right;\n",
       "    }\n",
       "</style>\n",
       "<table border=\"1\" class=\"dataframe\">\n",
       "  <thead>\n",
       "    <tr style=\"text-align: right;\">\n",
       "      <th></th>\n",
       "      <th>satisfaction_level</th>\n",
       "      <th>last_evaluation</th>\n",
       "      <th>number_project</th>\n",
       "      <th>average_montly_hours</th>\n",
       "      <th>time_spend_company</th>\n",
       "      <th>Work_accident</th>\n",
       "      <th>left</th>\n",
       "      <th>promotion_last_5years</th>\n",
       "      <th>Departments</th>\n",
       "      <th>salary</th>\n",
       "    </tr>\n",
       "    <tr>\n",
       "      <th>Index</th>\n",
       "      <th></th>\n",
       "      <th></th>\n",
       "      <th></th>\n",
       "      <th></th>\n",
       "      <th></th>\n",
       "      <th></th>\n",
       "      <th></th>\n",
       "      <th></th>\n",
       "      <th></th>\n",
       "      <th></th>\n",
       "    </tr>\n",
       "  </thead>\n",
       "  <tbody>\n",
       "    <tr>\n",
       "      <th>Type</th>\n",
       "      <td>&lt;class 'numpy.float64'&gt;</td>\n",
       "      <td>&lt;class 'numpy.float64'&gt;</td>\n",
       "      <td>&lt;class 'numpy.int64'&gt;</td>\n",
       "      <td>&lt;class 'numpy.int64'&gt;</td>\n",
       "      <td>&lt;class 'numpy.int64'&gt;</td>\n",
       "      <td>&lt;class 'numpy.int64'&gt;</td>\n",
       "      <td>&lt;class 'numpy.int64'&gt;</td>\n",
       "      <td>&lt;class 'numpy.int64'&gt;</td>\n",
       "      <td>&lt;class 'str'&gt;</td>\n",
       "      <td>&lt;class 'str'&gt;</td>\n",
       "    </tr>\n",
       "    <tr>\n",
       "      <th>Count</th>\n",
       "      <td>14999</td>\n",
       "      <td>14999</td>\n",
       "      <td>14999</td>\n",
       "      <td>14999</td>\n",
       "      <td>14999</td>\n",
       "      <td>14999</td>\n",
       "      <td>14999</td>\n",
       "      <td>14999</td>\n",
       "      <td>14999</td>\n",
       "      <td>14999</td>\n",
       "    </tr>\n",
       "    <tr>\n",
       "      <th>Missing</th>\n",
       "      <td>0</td>\n",
       "      <td>0</td>\n",
       "      <td>0</td>\n",
       "      <td>0</td>\n",
       "      <td>0</td>\n",
       "      <td>0</td>\n",
       "      <td>0</td>\n",
       "      <td>0</td>\n",
       "      <td>0</td>\n",
       "      <td>0</td>\n",
       "    </tr>\n",
       "    <tr>\n",
       "      <th>Num_Uniq</th>\n",
       "      <td>92</td>\n",
       "      <td>65</td>\n",
       "      <td>6</td>\n",
       "      <td>215</td>\n",
       "      <td>8</td>\n",
       "      <td>2</td>\n",
       "      <td>2</td>\n",
       "      <td>2</td>\n",
       "      <td>10</td>\n",
       "      <td>3</td>\n",
       "    </tr>\n",
       "    <tr>\n",
       "      <th>Min</th>\n",
       "      <td>0.09</td>\n",
       "      <td>0.36</td>\n",
       "      <td>2</td>\n",
       "      <td>96</td>\n",
       "      <td>2</td>\n",
       "      <td>0</td>\n",
       "      <td>0</td>\n",
       "      <td>0</td>\n",
       "      <td>string</td>\n",
       "      <td>string</td>\n",
       "    </tr>\n",
       "    <tr>\n",
       "      <th>Max</th>\n",
       "      <td>1</td>\n",
       "      <td>1</td>\n",
       "      <td>7</td>\n",
       "      <td>310</td>\n",
       "      <td>10</td>\n",
       "      <td>1</td>\n",
       "      <td>1</td>\n",
       "      <td>1</td>\n",
       "      <td>string</td>\n",
       "      <td>string</td>\n",
       "    </tr>\n",
       "    <tr>\n",
       "      <th>Mean</th>\n",
       "      <td>0.612834</td>\n",
       "      <td>0.716102</td>\n",
       "      <td>3.80305</td>\n",
       "      <td>201.05</td>\n",
       "      <td>3.49823</td>\n",
       "      <td>0.14461</td>\n",
       "      <td>0.238083</td>\n",
       "      <td>0.0212681</td>\n",
       "      <td>string</td>\n",
       "      <td>string</td>\n",
       "    </tr>\n",
       "    <tr>\n",
       "      <th>Std</th>\n",
       "      <td>0.248622</td>\n",
       "      <td>0.171163</td>\n",
       "      <td>1.23255</td>\n",
       "      <td>49.9414</td>\n",
       "      <td>1.46009</td>\n",
       "      <td>0.351707</td>\n",
       "      <td>0.42591</td>\n",
       "      <td>0.144277</td>\n",
       "      <td>string</td>\n",
       "      <td>string</td>\n",
       "    </tr>\n",
       "    <tr>\n",
       "      <th>Levels</th>\n",
       "      <td>too many</td>\n",
       "      <td>too many</td>\n",
       "      <td>[2, 3, 4, 5, 6, 7]</td>\n",
       "      <td>too many</td>\n",
       "      <td>[2, 3, 4, 5, 6, 7, 8, 10]</td>\n",
       "      <td>[0, 1]</td>\n",
       "      <td>[0, 1]</td>\n",
       "      <td>[0, 1]</td>\n",
       "      <td>[IT, RandD, accounting, hr, management, market...</td>\n",
       "      <td>[high, low, medium]</td>\n",
       "    </tr>\n",
       "  </tbody>\n",
       "</table>\n",
       "</div>"
      ],
      "text/plain": [
       "               satisfaction_level          last_evaluation  \\\n",
       "Index                                                        \n",
       "Type      <class 'numpy.float64'>  <class 'numpy.float64'>   \n",
       "Count                       14999                    14999   \n",
       "Missing                         0                        0   \n",
       "Num_Uniq                       92                       65   \n",
       "Min                          0.09                     0.36   \n",
       "Max                             1                        1   \n",
       "Mean                     0.612834                 0.716102   \n",
       "Std                      0.248622                 0.171163   \n",
       "Levels                   too many                 too many   \n",
       "\n",
       "                 number_project   average_montly_hours  \\\n",
       "Index                                                    \n",
       "Type      <class 'numpy.int64'>  <class 'numpy.int64'>   \n",
       "Count                     14999                  14999   \n",
       "Missing                       0                      0   \n",
       "Num_Uniq                      6                    215   \n",
       "Min                           2                     96   \n",
       "Max                           7                    310   \n",
       "Mean                    3.80305                 201.05   \n",
       "Std                     1.23255                49.9414   \n",
       "Levels       [2, 3, 4, 5, 6, 7]               too many   \n",
       "\n",
       "                 time_spend_company          Work_accident  \\\n",
       "Index                                                        \n",
       "Type          <class 'numpy.int64'>  <class 'numpy.int64'>   \n",
       "Count                         14999                  14999   \n",
       "Missing                           0                      0   \n",
       "Num_Uniq                          8                      2   \n",
       "Min                               2                      0   \n",
       "Max                              10                      1   \n",
       "Mean                        3.49823                0.14461   \n",
       "Std                         1.46009               0.351707   \n",
       "Levels    [2, 3, 4, 5, 6, 7, 8, 10]                 [0, 1]   \n",
       "\n",
       "                           left  promotion_last_5years  \\\n",
       "Index                                                    \n",
       "Type      <class 'numpy.int64'>  <class 'numpy.int64'>   \n",
       "Count                     14999                  14999   \n",
       "Missing                       0                      0   \n",
       "Num_Uniq                      2                      2   \n",
       "Min                           0                      0   \n",
       "Max                           1                      1   \n",
       "Mean                   0.238083              0.0212681   \n",
       "Std                     0.42591               0.144277   \n",
       "Levels                   [0, 1]                 [0, 1]   \n",
       "\n",
       "                                                Departments  \\\n",
       "Index                                                         \n",
       "Type                                          <class 'str'>   \n",
       "Count                                                 14999   \n",
       "Missing                                                   0   \n",
       "Num_Uniq                                                 10   \n",
       "Min                                                  string   \n",
       "Max                                                  string   \n",
       "Mean                                                 string   \n",
       "Std                                                  string   \n",
       "Levels    [IT, RandD, accounting, hr, management, market...   \n",
       "\n",
       "                       salary  \n",
       "Index                          \n",
       "Type            <class 'str'>  \n",
       "Count                   14999  \n",
       "Missing                     0  \n",
       "Num_Uniq                    3  \n",
       "Min                    string  \n",
       "Max                    string  \n",
       "Mean                   string  \n",
       "Std                    string  \n",
       "Levels    [high, low, medium]  "
      ]
     },
     "execution_count": 22,
     "metadata": {},
     "output_type": "execute_result"
    }
   ],
   "source": [
    "# I designed a function column_details() for doing this\n",
    "\n",
    "data_col_deets = column_details(data)\n",
    "data_col_deets"
   ]
  },
  {
   "cell_type": "markdown",
   "metadata": {},
   "source": [
    "### Attribute **Left**\n",
    "\n",
    "The 'supervised' variable is 'left'. 0 - False and 1 - True"
   ]
  },
  {
   "cell_type": "code",
   "execution_count": 8,
   "metadata": {},
   "outputs": [
    {
     "data": {
      "text/plain": [
       "Index\n",
       "Type        <class 'numpy.int64'>\n",
       "Count                       14999\n",
       "Missing                         0\n",
       "Num_Uniq                        2\n",
       "Min                             0\n",
       "Max                             1\n",
       "Mean                     0.238083\n",
       "Std                       0.42591\n",
       "Levels                     [0, 1]\n",
       "Name: left, dtype: object"
      ]
     },
     "execution_count": 8,
     "metadata": {},
     "output_type": "execute_result"
    }
   ],
   "source": [
    "data_col_deets['left']"
   ]
  },
  {
   "cell_type": "markdown",
   "metadata": {},
   "source": [
    "We can look at the mean values of other attributes based on grouping by 'left'"
   ]
  },
  {
   "cell_type": "code",
   "execution_count": 9,
   "metadata": {},
   "outputs": [
    {
     "data": {
      "text/html": [
       "<div>\n",
       "<style scoped>\n",
       "    .dataframe tbody tr th:only-of-type {\n",
       "        vertical-align: middle;\n",
       "    }\n",
       "\n",
       "    .dataframe tbody tr th {\n",
       "        vertical-align: top;\n",
       "    }\n",
       "\n",
       "    .dataframe thead th {\n",
       "        text-align: right;\n",
       "    }\n",
       "</style>\n",
       "<table border=\"1\" class=\"dataframe\">\n",
       "  <thead>\n",
       "    <tr style=\"text-align: right;\">\n",
       "      <th></th>\n",
       "      <th>satisfaction_level</th>\n",
       "      <th>last_evaluation</th>\n",
       "      <th>number_project</th>\n",
       "      <th>average_montly_hours</th>\n",
       "      <th>time_spend_company</th>\n",
       "      <th>Work_accident</th>\n",
       "      <th>promotion_last_5years</th>\n",
       "    </tr>\n",
       "    <tr>\n",
       "      <th>left</th>\n",
       "      <th></th>\n",
       "      <th></th>\n",
       "      <th></th>\n",
       "      <th></th>\n",
       "      <th></th>\n",
       "      <th></th>\n",
       "      <th></th>\n",
       "    </tr>\n",
       "  </thead>\n",
       "  <tbody>\n",
       "    <tr>\n",
       "      <th>0</th>\n",
       "      <td>0.666810</td>\n",
       "      <td>0.715473</td>\n",
       "      <td>3.786664</td>\n",
       "      <td>199.060203</td>\n",
       "      <td>3.380032</td>\n",
       "      <td>0.175009</td>\n",
       "      <td>0.026251</td>\n",
       "    </tr>\n",
       "    <tr>\n",
       "      <th>1</th>\n",
       "      <td>0.440098</td>\n",
       "      <td>0.718113</td>\n",
       "      <td>3.855503</td>\n",
       "      <td>207.419210</td>\n",
       "      <td>3.876505</td>\n",
       "      <td>0.047326</td>\n",
       "      <td>0.005321</td>\n",
       "    </tr>\n",
       "  </tbody>\n",
       "</table>\n",
       "</div>"
      ],
      "text/plain": [
       "      satisfaction_level  last_evaluation  number_project  \\\n",
       "left                                                        \n",
       "0               0.666810         0.715473        3.786664   \n",
       "1               0.440098         0.718113        3.855503   \n",
       "\n",
       "      average_montly_hours  time_spend_company  Work_accident  \\\n",
       "left                                                            \n",
       "0               199.060203            3.380032       0.175009   \n",
       "1               207.419210            3.876505       0.047326   \n",
       "\n",
       "      promotion_last_5years  \n",
       "left                         \n",
       "0                  0.026251  \n",
       "1                  0.005321  "
      ]
     },
     "execution_count": 9,
     "metadata": {},
     "output_type": "execute_result"
    }
   ],
   "source": [
    "left = data.groupby('left')\n",
    "left.mean()"
   ]
  },
  {
   "cell_type": "markdown",
   "metadata": {},
   "source": [
    "Employees who left:\n",
    "* Had low satisfaction levels\n",
    "* Did not receive a promotion in the last 5 years"
   ]
  },
  {
   "cell_type": "markdown",
   "metadata": {},
   "source": [
    "### Test **How many employees left**\n",
    "\n",
    "Roughly 3500 employees have left the company."
   ]
  },
  {
   "cell_type": "code",
   "execution_count": 10,
   "metadata": {},
   "outputs": [
    {
     "data": {
      "text/plain": [
       "0    11428\n",
       "1     3571\n",
       "Name: left, dtype: int64"
      ]
     },
     "execution_count": 10,
     "metadata": {},
     "output_type": "execute_result"
    }
   ],
   "source": [
    "data.left.value_counts()"
   ]
  },
  {
   "cell_type": "markdown",
   "metadata": {},
   "source": [
    "### Test **Categorical Attribute Distributions**"
   ]
  },
  {
   "cell_type": "code",
   "execution_count": 20,
   "metadata": {},
   "outputs": [
    {
     "data": {
      "image/png": "[encoded data removed]",
      "text/plain": [
       "<Figure size 720x1080 with 6 Axes>"
      ]
     },
     "metadata": {
      "needs_background": "light"
     },
     "output_type": "display_data"
    }
   ],
   "source": [
    "features=['number_project','time_spend_company','Work_accident','promotion_last_5years','Departments','salary']\n",
    "\n",
    "fig = plt.subplots(figsize=(10,15))\n",
    "\n",
    "for i, j in enumerate(features):\n",
    "    plt.subplot(4, 2, i+1)\n",
    "    plt.subplots_adjust(hspace = 1.0)\n",
    "    sns.countplot(x=j,data = data, hue='left')\n",
    "    plt.xticks(rotation=90)\n",
    "    plt.title(\"No. of employee\")"
   ]
  },
  {
   "cell_type": "markdown",
   "metadata": {},
   "source": [
    "Employees with projects ranging from 3 to 5, are likely to have stayed, while more or less are likely to have left.\n",
    "\n",
    "Highest rates of 'left' are seen at 3-5 years.\n",
    "\n",
    "None of the employees that left were given promotions in the last 5 years.\n",
    "\n",
    "Few of the highly paid employees have left."
   ]
  },
  {
   "cell_type": "markdown",
   "metadata": {},
   "source": [
    "### Test **Clustering Left Employees by Satisfaction and Evaluation**\n",
    "\n",
    "Two important features would be the 'satisfaction level' of the employee and the 'last_evaluation' by the company."
   ]
  },
  {
   "cell_type": "code",
   "execution_count": 18,
   "metadata": {},
   "outputs": [],
   "source": [
    "#import module\n",
    "from sklearn.cluster import KMeans"
   ]
  },
  {
   "cell_type": "code",
   "execution_count": 19,
   "metadata": {},
   "outputs": [
    {
     "data": {
      "image/png": "[encoded data removed]",
      "text/plain": [
       "<Figure size 432x288 with 1 Axes>"
      ]
     },
     "metadata": {
      "needs_background": "light"
     },
     "output_type": "display_data"
    }
   ],
   "source": [
    "# Filter data\n",
    "left_emp =  data[['satisfaction_level', 'last_evaluation']][data.left == 1]\n",
    "\n",
    "# Create groups using K-means clustering.\n",
    "kmeans = KMeans(n_clusters = 3, random_state = 0).fit(left_emp)\n",
    "\n",
    "# Add new column \"label\" annd assign cluster labels.\n",
    "left_emp['label'] = kmeans.labels_\n",
    "\n",
    "# Draw scatter plot\n",
    "plt.scatter(left_emp['satisfaction_level'], left_emp['last_evaluation'], c=left_emp['label'],cmap='Accent')\n",
    "plt.xlabel('Satisfaction Level')\n",
    "plt.ylabel('Last Evaluation')\n",
    "plt.title('3 Clusters of employees who left')\n",
    "plt.show()"
   ]
  },
  {
   "cell_type": "markdown",
   "metadata": {},
   "source": [
    "Three groups are present:\n",
    "* High evaluation, low satisfaction == 'Frustrated'\n",
    "* Low evaluation, medium satisfaction == 'Bad match'\n",
    "* High evaluation, high satisfaction == 'Winners'"
   ]
  },
  {
   "cell_type": "markdown",
   "metadata": {},
   "source": [
    "## Data Transformations\n",
    "\n",
    "### Label encode categorical variables."
   ]
  },
  {
   "cell_type": "code",
   "execution_count": 21,
   "metadata": {},
   "outputs": [],
   "source": [
    "from sklearn import preprocessing"
   ]
  },
  {
   "cell_type": "code",
   "execution_count": 23,
   "metadata": {},
   "outputs": [],
   "source": [
    "# create instance of labelEncoder\n",
    "le = preprocessing.LabelEncoder()\n",
    "\n",
    "# Converting string labels into numbers\n",
    "data['salary'] = le.fit_transform(data['salary'])\n",
    "data['Departments'] = le.fit_transform(data['Departments'])"
   ]
  },
  {
   "cell_type": "markdown",
   "metadata": {},
   "source": [
    "### Split train and test set\n",
    "\n",
    "Seventy percent of the data will be used for training the model and 30% will be used for model testing."
   ]
  },
  {
   "cell_type": "code",
   "execution_count": 27,
   "metadata": {},
   "outputs": [],
   "source": [
    "# Import train_test_split function\n",
    "from sklearn.model_selection import train_test_split"
   ]
  },
  {
   "cell_type": "code",
   "execution_count": 25,
   "metadata": {},
   "outputs": [],
   "source": [
    "# Features\n",
    "X=data[['satisfaction_level', 'last_evaluation', 'number_project', 'average_montly_hours',\n",
    "        'time_spend_company', 'Work_accident', 'promotion_last_5years', 'Departments', 'salary']]\n",
    "\n",
    "# Target attribute\n",
    "y=data['left']"
   ]
  },
  {
   "cell_type": "code",
   "execution_count": 28,
   "metadata": {},
   "outputs": [],
   "source": [
    "# Split dataset into training set and test set\n",
    "X_train, X_test, y_train, y_test = train_test_split(X, y, test_size=0.3, random_state=42)  # 70% training and 30% test"
   ]
  },
  {
   "cell_type": "markdown",
   "metadata": {},
   "source": [
    "## Model Building"
   ]
  },
  {
   "cell_type": "code",
   "execution_count": 29,
   "metadata": {},
   "outputs": [],
   "source": [
    "#Import Gradient Boosting Classifier model\n",
    "from sklearn.ensemble import GradientBoostingClassifier\n",
    "\n",
    "#Create Gradient Boosting Classifier\n",
    "gb = GradientBoostingClassifier()"
   ]
  },
  {
   "cell_type": "code",
   "execution_count": 30,
   "metadata": {},
   "outputs": [],
   "source": [
    "#Train the model using the training sets\n",
    "gb.fit(X_train, y_train)\n",
    "\n",
    "#Predict the response for test dataset\n",
    "y_pred = gb.predict(X_test)"
   ]
  },
  {
   "cell_type": "markdown",
   "metadata": {},
   "source": [
    "## Model Performance"
   ]
  },
  {
   "cell_type": "code",
   "execution_count": 31,
   "metadata": {},
   "outputs": [],
   "source": [
    "#Import scikit-learn metrics module for accuracy calculation\n",
    "from sklearn import metrics"
   ]
  },
  {
   "cell_type": "code",
   "execution_count": 32,
   "metadata": {},
   "outputs": [
    {
     "name": "stdout",
     "output_type": "stream",
     "text": [
      "Accuracy: 0.9715555555555555\n",
      "Precision: 0.958252427184466\n",
      "Recall: 0.9207089552238806\n"
     ]
    }
   ],
   "source": [
    "# Model Accuracy, how often is the classifier correct?\n",
    "print(\"Accuracy:\", metrics.accuracy_score(y_test, y_pred))\n",
    "\n",
    "# Model Precision\n",
    "print(\"Precision:\", metrics.precision_score(y_test, y_pred))\n",
    "\n",
    "# Model Recall\n",
    "print(\"Recall:\", metrics.recall_score(y_test, y_pred))"
   ]
  },
  {
   "cell_type": "markdown",
   "metadata": {},
   "source": [
    "The model was able to classified employees who left at a rate of 97%.\n",
    "\n",
    "When the model predicted an employee was going to leave, they left 95% of the time.\n",
    "\n",
    "If an employee left, the model identified it 92% of the time."
   ]
  },
  {
   "cell_type": "markdown",
   "metadata": {},
   "source": [
    "## **Dependencies**"
   ]
  },
  {
   "cell_type": "code",
   "execution_count": 5,
   "metadata": {},
   "outputs": [],
   "source": [
    "# v001\n",
    "\n",
    "def column_details(data):\n",
    "    \n",
    "    column_details = extract_column_details(data)\n",
    "    \n",
    "    import pandas as pd\n",
    "        \n",
    "    column_details['Index'] = ['Type','Count','Missing','Num_Uniq','Min','Max','Mean','Std','Levels']\n",
    "    \n",
    "    df = pd.DataFrame(column_details, columns = column_details.keys()).set_index('Index', drop = True)\n",
    "    \n",
    "    return df    "
   ]
  },
  {
   "cell_type": "code",
   "execution_count": 6,
   "metadata": {},
   "outputs": [],
   "source": [
    "# v001\n",
    "\n",
    "def extract_column_details(data, column_details = {}):\n",
    "    \"\"\"\n",
    "    Return details about each column in a dataframe\n",
    "    \"\"\"\n",
    "    \n",
    "    import numpy as np\n",
    "    from pandas import DataFrame\n",
    "    \n",
    "    for column in data.columns:\n",
    "        col_type = type(data[column][0])\n",
    "        col_count = len(data[column])\n",
    "        col_miss = data[column].isnull().sum()  # how many missing values?\n",
    "        col_num_unique = len(np.unique(data[column]))  # how many unique values?\n",
    "\n",
    "        if (type(data[column][0]) is str) == False:  # only if float or integer\n",
    "            col_min = np.min(data[column])  # minimum\n",
    "            col_max = np.max(data[column])  # maximum\n",
    "            col_mean = np.mean(data[column])  # average\n",
    "            col_std = np.std(data[column])  # standard deviation\n",
    "\n",
    "        else:  # if its a string\n",
    "            col_min = 'string'  # minimum\n",
    "            col_max = 'string'  # maximum\n",
    "            col_mean = 'string'  # average\n",
    "            col_std = 'string'  # standard deviation\n",
    "\n",
    "        if col_num_unique <= 10:  # want to list unique values\n",
    "            col_list = np.unique(data[column])\n",
    "\n",
    "        else:\n",
    "            col_list = \"too many\"\n",
    "\n",
    "        # create a dictionary to store the info\n",
    "        column_details[column] = [col_type,\n",
    "                                  col_count,\n",
    "                                  col_miss,\n",
    "                                  col_num_unique,\n",
    "                                  col_min,\n",
    "                                  col_max,\n",
    "                                  col_mean,\n",
    "                                  col_std,\n",
    "                                  col_list]\n",
    "        \n",
    "    return column_details"
   ]
  }
 ],
 "metadata": {
  "kernelspec": {
   "display_name": "Python 3",
   "language": "python",
   "name": "python3"
  },
  "language_info": {
   "codemirror_mode": {
    "name": "ipython",
    "version": 3
   },
   "file_extension": ".py",
   "mimetype": "text/x-python",
   "name": "python",
   "nbconvert_exporter": "python",
   "pygments_lexer": "ipython3",
   "version": "3.7.3"
  }
 },
 "nbformat": 4,
 "nbformat_minor": 2
}
